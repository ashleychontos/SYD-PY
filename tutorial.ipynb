{
 "cells": [
  {
   "cell_type": "markdown",
   "id": "29296601",
   "metadata": {},
   "source": [
    "If you don't already have `pysyd`, see steps to [install](https://pysyd.readthedocs.io/en/latest/installation.html):\n",
    "  1. `python -m pip install pysyd`\n",
    "  2. `mkdir pysyd`\n",
    "  3. `cd pysyd`\n",
    "  4. `pysyd setup`\n",
    "  \n",
    "The last step will set up your local `pysyd` folder with the appropriate directory structure that works best with the software *and* download some examples. Let's run a couple of them!"
   ]
  },
  {
   "cell_type": "code",
   "execution_count": null,
   "id": "8473f859",
   "metadata": {},
   "outputs": [],
   "source": [
    "import pysyd"
   ]
  },
  {
   "cell_type": "markdown",
   "id": "26007d2a",
   "metadata": {},
   "source": [
    "## TL;DR\n",
    "`pySYD` is adapted from the IDL-based asteroseismic pipeline, `SYD`, which has been a very powerful for automating the detection of solar-like oscillations. The analysis is basically two-fold:\n",
    "\n",
    " 1. remove crude background fit and estimate numax\n",
    " 2. remove proper background fit and estimate numax (+ other things)"
   ]
  },
  {
   "cell_type": "markdown",
   "id": "c8a06724",
   "metadata": {},
   "source": [
    "### Step 1: load default parameters\n",
    "\n",
    "This step is analogous to running software via command-line, which has a lot of these parameters set to their defaults. Most of them should never need to be touched... unless you have a giant star with low numax."
   ]
  },
  {
   "cell_type": "code",
   "execution_count": null,
   "id": "8c1274d5",
   "metadata": {},
   "outputs": [],
   "source": [
    "from pysyd.utils import Parameters\n",
    "\n",
    "# KIC 1435467\n",
    "name, args = '1435467', Parameters()\n",
    "\n",
    "print(args.__dict__.keys())"
   ]
  },
  {
   "cell_type": "markdown",
   "id": "1d8a9107",
   "metadata": {},
   "source": [
    "### Step 2: add target(s)\n",
    "\n",
    "This will draw from information (via stars_info.csv) when available and then pull the rest of the needed parameters from the defaults to create a new (sub)dictionary for each target."
   ]
  },
  {
   "cell_type": "code",
   "execution_count": null,
   "id": "81c4942f",
   "metadata": {},
   "outputs": [],
   "source": [
    "args.add_targets(stars=[name])\n",
    "\n",
    "print(args.params[name])"
   ]
  },
  {
   "cell_type": "markdown",
   "id": "8b9de24a",
   "metadata": {},
   "source": [
    "### Step 3: create pipeline target\n",
    "\n",
    "Now that we have our two main ingredients we can create a `Target` object, which is where a bulk of the analysis will occur. This will essentially pop that (sub)dictionary from above and then attempt to load in the data."
   ]
  },
  {
   "cell_type": "code",
   "execution_count": null,
   "id": "7dfd2c6e",
   "metadata": {},
   "outputs": [],
   "source": [
    "from pysyd.target import Target\n",
    "\n",
    "star = Target(name, args)\n",
    "# Let's change some defaults\n",
    "star.params['show'] = True\n",
    "star.params['verbose'] = True\n",
    "cont = star.load_data()"
   ]
  },
  {
   "cell_type": "markdown",
   "id": "4260b31a",
   "metadata": {},
   "source": [
    "If it has done so successfully, the verbose output (i.e. above) will tell you about the files it loaded in and automatically calculate if the power spectrum is over- or critically-sampled. From this point, the code works in those two steps I mentioned at the beginning.\n",
    "\n",
    "### Step 4: crude background fit"
   ]
  },
  {
   "cell_type": "code",
   "execution_count": null,
   "id": "75245375",
   "metadata": {},
   "outputs": [],
   "source": [
    "# First go\n",
    "star.estimate_parameters()"
   ]
  },
  {
   "cell_type": "markdown",
   "id": "6b1f6024",
   "metadata": {},
   "source": [
    "-> insert first thing that can go wrong\n",
    "\n",
    "Here we know the numax for Estimate (3) is basically correct since it's fairly high S/N but it's selecting the first model. We can get around this through the `ask` parameter, which literally means to ask you which model to select instead. More generally, this is a helpful parameter to use if you think something is going wrong in this first step because it will output a figure that can help diagnose most issues."
   ]
  },
  {
   "cell_type": "code",
   "execution_count": null,
   "id": "74c34c81",
   "metadata": {},
   "outputs": [],
   "source": [
    "# Second go\n",
    "name, args = '1435467', Parameters()\n",
    "args.add_targets(stars=[name])\n",
    "star = Target(name, args)\n",
    "star.params['show'] = True\n",
    "star.params['verbose'] = True\n",
    "star.params['ask'] = True\n",
    "cont = star.load_data()\n",
    "star.estimate_parameters()"
   ]
  },
  {
   "cell_type": "markdown",
   "id": "9366ab25",
   "metadata": {},
   "source": [
    "And then we have our final scenario... the real scenario.\n",
    "\n",
    "Let's say that I know I've used a high-pass filter so the low frequencies cannot be trusted and that there is also a high-frequency artefact that I want the program to ignore. "
   ]
  },
  {
   "cell_type": "code",
   "execution_count": null,
   "id": "a5488ac6",
   "metadata": {},
   "outputs": [],
   "source": [
    "# Third go\n",
    "name, args = '1435467', Parameters()\n",
    "args.add_targets(stars=[name])\n",
    "star = Target(name, args)\n",
    "star.params['show'] = True\n",
    "star.params['verbose'] = True\n",
    "star.params['lower_ex'] = 100.0\n",
    "star.params['upper_ex'] = 6000.0\n",
    "cont = star.load_data()\n",
    "star.estimate_parameters()"
   ]
  },
  {
   "cell_type": "markdown",
   "id": "002d10ea",
   "metadata": {},
   "source": [
    "So now that we are absolutely sure we have a good estimate for numax, we can let the software do its thing... and derive the stellar background and global asteroseismic parameters.\n",
    "\n",
    "FWIW the reason this is done in a two-step process is because for solar-like oscillations, we know there is localized power due to the oscillations but there is also various red and white noise components which can affect the reliability of yours results. Therefore for the proper background fit in this next step, the region of oscillations is actually masked out for that very reason."
   ]
  },
  {
   "cell_type": "markdown",
   "id": "bc37eb57",
   "metadata": {},
   "source": [
    "### Step 5: derive all parameters"
   ]
  },
  {
   "cell_type": "code",
   "execution_count": null,
   "id": "b1251d9d",
   "metadata": {},
   "outputs": [],
   "source": [
    "star.derive_parameters()"
   ]
  },
  {
   "cell_type": "code",
   "execution_count": null,
   "id": "eb9cf15d",
   "metadata": {},
   "outputs": [],
   "source": [
    "star.show_results()"
   ]
  },
  {
   "cell_type": "markdown",
   "id": "31426ba9",
   "metadata": {},
   "source": [
    "### Putting this all together"
   ]
  },
  {
   "cell_type": "code",
   "execution_count": null,
   "id": "1a2d3009",
   "metadata": {},
   "outputs": [],
   "source": [
    "name, args = '1435467', Parameters()\n",
    "args.add_targets(stars=[name])\n",
    "star = Target(name, args)\n",
    "star.params['show'] = True\n",
    "star.params['lower_ex'] = 100.0\n",
    "star.params['upper_ex'] = 6000.0\n",
    "cont = star.load_data()\n",
    "star.estimate_parameters()\n",
    "star.derive_parameters()\n",
    "star.show_results()"
   ]
  },
  {
   "cell_type": "markdown",
   "id": "c962f129",
   "metadata": {},
   "source": [
    "## A more evolved star"
   ]
  },
  {
   "cell_type": "code",
   "execution_count": null,
   "id": "2b0dd8e2",
   "metadata": {},
   "outputs": [],
   "source": [
    "name, args = '11618103', Parameters()\n",
    "args.add_targets(stars=[name])\n",
    "star = Target(name, args)\n",
    "star.params['show'] = True\n",
    "star.params['verbose'] = True\n",
    "cont = star.load_data()\n",
    "star.estimate_parameters()\n",
    "star.derive_parameters()\n",
    "star.show_results()"
   ]
  },
  {
   "cell_type": "code",
   "execution_count": null,
   "id": "97fa352f",
   "metadata": {},
   "outputs": [],
   "source": [
    "name, args = '11618103', Parameters()\n",
    "args.add_targets(stars=[name])\n",
    "star = Target(name, args)\n",
    "star.params['show'] = True\n",
    "star.params['verbose'] = True\n",
    "star.params['noy'] = '7+1'\n",
    "cont = star.load_data()\n",
    "star.estimate_parameters()\n",
    "star.derive_parameters()\n",
    "star.show_results()"
   ]
  },
  {
   "cell_type": "markdown",
   "id": "08036856",
   "metadata": {},
   "source": [
    "## Even more evolved?\n",
    "\n",
    "Things that are affected at lower frequencies:\n",
    "1. crude background fit \n",
    "   - smoothing (`--sw`, `--smoothwidth`) of power spectrum (green/red lines, panel 2 of 6 in first figure)\n",
    "   - adjust (parameter) option for more evolved stars (or some similar keyword that allows you to provide 'MS', 'SG', 'RG' or something similar)\n",
    "   \n",
    "2. main parameter derivation\n",
    "   - box filter (`--bf`, `--box`) only affects plotting, does not affect results\n",
    "   - independent width (`--iw`, `--indwidth`) acts the same as the smoothing width does in the first module and is also in muHz\n",
    "   - smoothed power spectrum (`--sp`, `--smoothps`) is a box filter that smooths out the power spectrum before computing the ACF and *does* affect your analysis (middle, middle panel 5 of 9 panel figure)"
   ]
  },
  {
   "cell_type": "code",
   "execution_count": null,
   "id": "7e4ab692",
   "metadata": {},
   "outputs": [],
   "source": [
    "name, args = '11618103', Parameters()\n",
    "args.add_targets(stars=[name])\n",
    "star = Target(name, args)\n",
    "star.params['show'] = True\n",
    "star.params['verbose'] = True\n",
    "# first module\n",
    "star.params['smooth_width'] = 1.0\n",
    "star.params['lower_ex'] = 1.0\n",
    "# second module\n",
    "star.params['ind_width'] = 1.0\n",
    "star.params['smooth_ps'] = 0.1\n",
    "star.params['lower_bg'] = 1.0\n",
    "cont = star.load_data()\n",
    "star.estimate_parameters()\n",
    "star.derive_parameters()\n",
    "star.show_results()"
   ]
  },
  {
   "cell_type": "code",
   "execution_count": null,
   "id": "da8b1b0b",
   "metadata": {},
   "outputs": [],
   "source": []
  }
 ],
 "metadata": {
  "kernelspec": {
   "display_name": "Python 3 (ipykernel)",
   "language": "python",
   "name": "python3"
  },
  "language_info": {
   "codemirror_mode": {
    "name": "ipython",
    "version": 3
   },
   "file_extension": ".py",
   "mimetype": "text/x-python",
   "name": "python",
   "nbconvert_exporter": "python",
   "pygments_lexer": "ipython3",
   "version": "3.10.6"
  }
 },
 "nbformat": 4,
 "nbformat_minor": 5
}
